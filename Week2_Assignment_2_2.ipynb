{
  "nbformat": 4,
  "nbformat_minor": 0,
  "metadata": {
    "colab": {
      "provenance": [],
      "include_colab_link": true
    },
    "kernelspec": {
      "name": "python3",
      "display_name": "Python 3"
    },
    "language_info": {
      "name": "python"
    }
  },
  "cells": [
    {
      "cell_type": "markdown",
      "metadata": {
        "id": "view-in-github",
        "colab_type": "text"
      },
      "source": [
        "<a href=\"https://colab.research.google.com/github/Breezebrise/CS102UAT/blob/main/Week2_Assignment_2_2.ipynb\" target=\"_parent\"><img src=\"https://colab.research.google.com/assets/colab-badge.svg\" alt=\"Open In Colab\"/></a>"
      ]
    },
    {
      "cell_type": "markdown",
      "source": [
        "Write a NumPy program to reshape this 1D array [1 2 3 4 5 6] into a 2D array with 2 rows."
      ],
      "metadata": {
        "id": "kz7jtNtR-HkY"
      }
    },
    {
      "cell_type": "code",
      "execution_count": 8,
      "metadata": {
        "id": "JuREvIZ6-MTw",
        "colab": {
          "base_uri": "https://localhost:8080/"
        },
        "outputId": "b8a841d7-3a6a-40b0-f9a3-17960b3a452d"
      },
      "outputs": [
        {
          "output_type": "stream",
          "name": "stdout",
          "text": [
            "Reshape array\n",
            "[[1 2 3]\n",
            " [4 5 6]]\n"
          ]
        }
      ],
      "source": [
        "#2d array\n",
        "import numpy as np\n",
        "arr=np.array([1,2,3,4,5,6])\n",
        "reshaped_arr = arr.reshape(2,3) #variable names cannot contain spaces.\n",
        "print(\"Reshape array\")\n",
        "print(reshaped_arr)\n",
        "\n",
        "#The error message SyntaxError: invalid syntax in the cell with id JuREvIZ6-MTw indicates that there is a problem with how the code is written, specifically on the line reshaped arr = arr.reshape(2,3)."
      ]
    },
    {
      "cell_type": "markdown",
      "source": [
        "Write a NumPy program to perform matrix multiplication between a 3x3 matrix and a 3x2 matrix"
      ],
      "metadata": {
        "id": "_kKotX90-Ltr"
      }
    },
    {
      "cell_type": "code",
      "execution_count": 12,
      "metadata": {
        "id": "KBE4Xatd-Na8",
        "colab": {
          "base_uri": "https://localhost:8080/"
        },
        "outputId": "6da5c8b7-9cb0-4459-a7e3-51c2578bc4f4"
      },
      "outputs": [
        {
          "output_type": "stream",
          "name": "stdout",
          "text": [
            "[[ 76  82]\n",
            " [184 199]\n",
            " [292 316]]\n",
            "Matrix multiplication result:\n",
            "[[ 76  82]\n",
            " [184 199]\n",
            " [292 316]]\n"
          ]
        }
      ],
      "source": [
        "#define a 3x3 matrics\n",
        "import numpy as np\n",
        "A = np.array([[1, 2, 3],\n",
        "              [4, 5, 6],\n",
        "              [7, 8, 9]])\n",
        "#define a 3x2 matrix\n",
        "B = np.array([[10, 11],\n",
        "              [12, 13],\n",
        "              [14, 15]])\n",
        "#perform matrix multiplication\n",
        "C = np.dot(A, B)\n",
        "print(C)\n",
        "print(\"Matrix multiplication result:\")\n",
        "print(C)"
      ]
    },
    {
      "cell_type": "markdown",
      "source": [
        "Write a NumPy program to find the most frequent value and the number of times it occured in the array\n",
        "\n",
        "\n",
        "[\n",
        "\n",
        "    [1, 2, 3, 2, 1],\n",
        "    [4, 2, 5, 2, 6],\n",
        "    [2, 1, 2, 3, 2],\n",
        "    [7, 2, 8, 2, 9]  \n",
        " ]"
      ],
      "metadata": {
        "id": "4AaHHXgP-U2H"
      }
    },
    {
      "cell_type": "code",
      "execution_count": 13,
      "metadata": {
        "id": "FE8o-YBf-efj",
        "colab": {
          "base_uri": "https://localhost:8080/"
        },
        "outputId": "63fa16f6-240b-435f-c516-274ca14e57b7"
      },
      "outputs": [
        {
          "output_type": "stream",
          "name": "stdout",
          "text": [
            "Most frequent value: 2\n",
            "Occurs 9 times\n"
          ]
        }
      ],
      "source": [
        "#define the 2D array\n",
        "arr = np.array([\n",
        "    [1, 2, 3, 2, 1],\n",
        "    [4, 2, 5, 2, 6],\n",
        "    [2, 1, 2, 3, 2],\n",
        "    [7, 2, 8, 2, 9]\n",
        "])\n",
        "\n",
        "#flatten the array to 1D\n",
        "flat = arr.flatten()\n",
        "\n",
        "#use np.bincount to count frequency\n",
        "counts = np.bincount(flat)\n",
        "most_frequent = np.argmax(counts)\n",
        "frequency = counts[most_frequent]\n",
        "\n",
        "print(f\"Most frequent value: {most_frequent}\")\n",
        "print(f\"Occurs {frequency} times\")\n"
      ]
    },
    {
      "cell_type": "markdown",
      "source": [
        "Given a NumPy array representing a dataset with missing values, write a program to replace all the missing values (NaNs) with the mean of the respective column.\n",
        "\n",
        "[  [ 1.  2. nan  4.  5.],\n",
        "\n",
        " [ 6. nan  8.  9. 10.],\n",
        "\n",
        " [11. 12. 13. nan 15.],\n",
        "\n",
        " [16. 17. nan 19. 20.],\n",
        "\n",
        " [nan 22. 23. 24. 25.]  ]"
      ],
      "metadata": {
        "id": "_dN47xLJ-jDC"
      }
    },
    {
      "cell_type": "code",
      "execution_count": 15,
      "metadata": {
        "id": "NItipXf4-qX7",
        "colab": {
          "base_uri": "https://localhost:8080/"
        },
        "outputId": "76bcff2a-756d-4e1f-ab0a-ff7b03254130"
      },
      "outputs": [
        {
          "output_type": "stream",
          "name": "stdout",
          "text": [
            "Cleaned dataset with NaNs replaced by column means:\n",
            "[[ 1.          2.         14.66666667  4.          5.        ]\n",
            " [ 6.         13.25        8.          9.         10.        ]\n",
            " [11.         12.         13.         14.         15.        ]\n",
            " [16.         17.         14.66666667 19.         20.        ]\n",
            " [ 8.5        22.         23.         24.         25.        ]]\n"
          ]
        }
      ],
      "source": [
        "import numpy as np\n",
        "# Define the dataset with missing values (NaN)\n",
        "data = np.array([\n",
        "    [1., 2., np.nan, 4., 5.],\n",
        "    [6., np.nan, 8., 9., 10.],\n",
        "    [11., 12., 13., np.nan, 15.],\n",
        "    [16., 17., np.nan, 19., 20.],\n",
        "    [np.nan, 22., 23., 24., 25.]\n",
        "])\n",
        "\n",
        "# Step 1: Calculate the mean of each column, ignoring NaNs\n",
        "column_means = np.nanmean(data, axis=0)\n",
        "\n",
        "# Step 2: Replace NaNs with the corresponding column mean\n",
        "# np.where creates a new array, replacing only where np.isnan(data) is True\n",
        "cleaned_data = np.where(np.isnan(data), column_means, data)\n",
        "\n",
        "# Print the cleaned array\n",
        "print(\"Cleaned dataset with NaNs replaced by column means:\")\n",
        "print(cleaned_data)\n",
        "#make sure data is properly filled and double check where np.nan goes if using it\n",
        "###np.nan is a special constant in NumPy that represents \"Not a Number\", which is used for missing or undefined numeric data.\n",
        "#nan by itself is not defined unless you specifically import it.\n"
      ]
    },
    {
      "cell_type": "markdown",
      "source": [
        "Write a program that takes a NumPy array representing a dataset with a column of dates and create a new column extracting the month of each date.\n",
        "\n",
        "np.array([\n",
        "\n",
        "    ('2024-01-15', 10, 100),\n",
        "    ('2024-02-28', 15, 150),\n",
        "    ('2024-03-10', 20, 200),\n",
        "    ('2024-04-22', 25, 250),\n",
        "    ('2024-05-05', 30, 300),\n",
        "    ('2024-06-18', 35, 350),\n",
        "    ('2024-07-30', 40, 400),\n",
        "    ('2024-08-12', 45, 450),\n",
        "    ('2024-09-25', 50, 500),\n",
        "    ('2024-10-07', 55, 550)\n",
        "]"
      ],
      "metadata": {
        "id": "xOZ-z86J-l-q"
      }
    },
    {
      "cell_type": "code",
      "execution_count": 17,
      "metadata": {
        "id": "HOzzT0QO-qrM",
        "colab": {
          "base_uri": "https://localhost:8080/"
        },
        "outputId": "94c380a8-809f-471d-a215-17c7c1e31e3b"
      },
      "outputs": [
        {
          "output_type": "stream",
          "name": "stdout",
          "text": [
            "Dataset with Month Column Extracted:\n",
            "[['2024-01-15' '01' '10' '100']\n",
            " ['2024-02-28' '02' '15' '150']\n",
            " ['2024-03-10' '03' '20' '200']\n",
            " ['2024-04-22' '04' '25' '250']\n",
            " ['2024-05-05' '05' '30' '300']\n",
            " ['2024-06-18' '06' '35' '350']\n",
            " ['2024-07-30' '07' '40' '400']\n",
            " ['2024-08-12' '08' '45' '450']\n",
            " ['2024-09-25' '09' '50' '500']\n",
            " ['2024-10-07' '10' '55' '550']]\n"
          ]
        }
      ],
      "source": [
        "import numpy as np\n",
        "\n",
        "#create the structured array with column types\n",
        "data = np.array([\n",
        "    ('2024-01-15', 10, 100),\n",
        "    ('2024-02-28', 15, 150),\n",
        "    ('2024-03-10', 20, 200),\n",
        "    ('2024-04-22', 25, 250),\n",
        "    ('2024-05-05', 30, 300),\n",
        "    ('2024-06-18', 35, 350),\n",
        "    ('2024-07-30', 40, 400),\n",
        "    ('2024-08-12', 45, 450),\n",
        "    ('2024-09-25', 50, 500),\n",
        "    ('2024-10-07', 55, 550)\n",
        "], dtype=[('date', 'U10'), ('value1', 'i4'), ('value2', 'i4')])\n",
        "\n",
        "#step 1: Extract the date column as strings\n",
        "date_column = data['date']\n",
        "\n",
        "#step 2: Convert the strings to numpy datetime64 objects\n",
        "date_objects = np.array(date_column, dtype='datetime64[D]')\n",
        "\n",
        "#step 3: Extract the month as integers from the datetime objects\n",
        "months = np.array([d.astype('datetime64[M]').astype(str)[5:] for d in date_objects])\n",
        "\n",
        "#step 4: Combine the original data with the month column\n",
        "#stack horizontally using np.column_stack\n",
        "final_data = np.column_stack((date_column, months, data['value1'], data['value2']))\n",
        "\n",
        "#Show the final output with the month column added\n",
        "print(\"Dataset with Month Column Extracted:\")\n",
        "print(final_data)\n"
      ]
    }
  ]
}